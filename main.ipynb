{
 "cells": [
  {
   "cell_type": "code",
   "execution_count": 1,
   "id": "95a54fbe-2689-4a11-80f7-e99760fd9746",
   "metadata": {},
   "outputs": [],
   "source": [
    "%load_ext jupyter_ai"
   ]
  },
  {
   "cell_type": "code",
   "execution_count": 5,
   "id": "cff72242-8121-4a25-9627-7fbee38bedcc",
   "metadata": {},
   "outputs": [
    {
     "data": {
      "text/markdown": [
       "# Plotting with Matplotlib\n",
       "## Introduction\n",
       "\n",
       "Matplotlib is a popular Python library used for creating static, animated, and interactive visualizations.\n",
       "\n",
       "### Installing Matplotlib\n",
       "\n",
       "To use Matplotlib, you need to install it first. You can do this using pip:\n",
       "\n",
       "```bash\n",
       "pip install matplotlib\n",
       "```\n",
       "\n",
       "### Basic Plot Example\n",
       "\n",
       "Here's an example of a simple plot created with Matplotlib:\n",
       "```python\n",
       "import matplotlib.pyplot as plt\n",
       "\n",
       "# Data for the plot\n",
       "x = [1, 2, 3, 4, 5]\n",
       "y = [1, 4, 9, 16, 25]\n",
       "\n",
       "# Create the plot\n",
       "plt.plot(x, y)\n",
       "\n",
       "# Add title and labels\n",
       "plt.title('Simple Plot')\n",
       "plt.xlabel('X Axis')\n",
       "plt.ylabel('Y Axis')\n",
       "\n",
       "# Display the plot\n",
       "plt.show()\n",
       "```\n",
       "\n",
       "### Line Plot with Multiple Lines\n",
       "\n",
       "You can also create plots with multiple lines by passing different data sets to the `plot()` function:\n",
       "```python\n",
       "import matplotlib.pyplot as plt\n",
       "\n",
       "# Data for the first line\n",
       "x1 = [1, 2, 3, 4, 5]\n",
       "y1 = [1, 4, 9, 16, 25]\n",
       "\n",
       "# Data for the second line\n",
       "x2 = [1, 2, 3, 4, 5]\n",
       "y2 = [6, 8, 10, 12, 14]\n",
       "\n",
       "# Create the plot\n",
       "plt.plot(x1, y1, label='Line 1')\n",
       "plt.plot(x2, y2, label='Line 2')\n",
       "\n",
       "# Add title and labels\n",
       "plt.title('Multiple Lines Plot')\n",
       "plt.xlabel('X Axis')\n",
       "plt.ylabel('Y Axis')\n",
       "\n",
       "# Add legend\n",
       "plt.legend()\n",
       "\n",
       "# Display the plot\n",
       "plt.show()\n",
       "```\n",
       "\n",
       "### Bar Chart\n",
       "\n",
       "You can also create bar charts using Matplotlib. Here's an example:\n",
       "```python\n",
       "import matplotlib.pyplot as plt\n",
       "\n",
       "# Data for the bar chart\n",
       "x = ['Apples', 'Bananas', 'Cherries']\n",
       "y = [10, 15, 7]\n",
       "\n",
       "# Create the plot\n",
       "plt.bar(x, y)\n",
       "\n",
       "# Add title and labels\n",
       "plt.title('Bar Chart')\n",
       "plt.xlabel('Fruit')\n",
       "plt.ylabel('Quantity')\n",
       "\n",
       "# Display the plot\n",
       "plt.show()\n",
       "```\n",
       "\n",
       "### Scatter Plot\n",
       "\n",
       "Matplotlib also supports scatter plots. Here's an example:\n",
       "```python\n",
       "import matplotlib.pyplot as plt\n",
       "\n",
       "# Data for the scatter plot\n",
       "x = [1, 2, 3, 4, 5]\n",
       "y = [1, 4, 9, 16, 25]\n",
       "\n",
       "# Create the plot\n",
       "plt.scatter(x, y)\n",
       "\n",
       "# Add title and labels\n",
       "plt.title('Scatter Plot')\n",
       "plt.xlabel('X Axis')\n",
       "plt.ylabel('Y Axis')\n",
       "\n",
       "# Display the plot\n",
       "plt.show()\n",
       "```\n",
       "\n",
       "These are just a few examples of what you can do with Matplotlib. For more information, see the [official documentation](https://matplotlib.org/stable/tutorials/index.html)."
      ],
      "text/plain": [
       "<IPython.core.display.Markdown object>"
      ]
     },
     "execution_count": 5,
     "metadata": {
      "text/markdown": {
       "jupyter_ai": {
        "model_id": "llama3.2",
        "provider_id": "ollama"
       }
      }
     },
     "output_type": "execute_result"
    }
   ],
   "source": [
    "%%ai ollama:llama3.2\n",
    "\n",
    "plot a plot using matplotlib"
   ]
  }
 ],
 "metadata": {
  "kernelspec": {
   "display_name": "Python 3 (ipykernel)",
   "language": "python",
   "name": "python3"
  },
  "language_info": {
   "codemirror_mode": {
    "name": "ipython",
    "version": 3
   },
   "file_extension": ".py",
   "mimetype": "text/x-python",
   "name": "python",
   "nbconvert_exporter": "python",
   "pygments_lexer": "ipython3",
   "version": "3.12.9"
  }
 },
 "nbformat": 4,
 "nbformat_minor": 5
}
